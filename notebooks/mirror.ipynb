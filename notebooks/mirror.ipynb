{
 "cells": [
  {
   "cell_type": "code",
   "execution_count": 2,
   "metadata": {},
   "outputs": [],
   "source": [
    "import pathlib\n",
    "import os\n",
    "import time\n",
    "import base64\n",
    "from ctypes import byref, cast, POINTER, c_int, c_uint, c_float\n",
    "import libximc as ximc\n",
    "import pandas as pd\n",
    "import numpy as np\n",
    "import serial"
   ]
  },
  {
   "cell_type": "code",
   "execution_count": 3,
   "metadata": {},
   "outputs": [
    {
     "name": "stdout",
     "output_type": "stream",
     "text": [
      "Found 2 real device(s):\n",
      "  xi-com:\\\\.\\COM10\n",
      "  xi-com:\\\\.\\COM9\n"
     ]
    }
   ],
   "source": [
    "probe_flags = ximc.EnumerateFlags.ENUMERATE_PROBE + ximc.EnumerateFlags.ENUMERATE_NETWORK\n",
    "enum_hint=b\"addr=\"\n",
    "devices_info = ximc.lib.enumerate_devices(probe_flags, enum_hint)\n",
    "n_devices = ximc.lib.get_device_count(devices_info)\n",
    "\n",
    "# Print real devices list\n",
    "if n_devices > 0:\n",
    "    print(\"Found {} real device(s):\".format(n_devices))\n",
    "    for i in range(n_devices):\n",
    "        enum_name = ximc.lib.get_device_name(devices_info, i)\n",
    "        print(\"  {}\".format(enum_name.decode()))\n",
    "else:\n",
    "    print(\"The real devices were not found. A virtual device will be used.\")"
   ]
  },
  {
   "cell_type": "code",
   "execution_count": 4,
   "metadata": {},
   "outputs": [
    {
     "name": "stdout",
     "output_type": "stream",
     "text": [
      "Device with URI xi-com:\\\\.\\COM10 successfully opened\n",
      "Device with URI xi-com:\\\\.\\COM9 successfully opened\n"
     ]
    }
   ],
   "source": [
    "device_uri_axis1 = \"xi-com:\\\\\\\\.\\\\COM10\" # horizontal\n",
    "device_uri_axis2 = \"xi-com:\\\\\\\\.\\\\COM9\" # vertical\n",
    " \n",
    "device_id1 = ximc.lib.open_device(device_uri_axis1.encode()) # horizontal\n",
    "device_id2 = ximc.lib.open_device(device_uri_axis2.encode()) # vertical\n",
    "\n",
    "if device_id1 > 0:\n",
    "    print(\"Device with URI {} successfully opened\".format(device_uri_axis1))\n",
    "else:\n",
    "    raise RuntimeError(\"Failed to open device with URI\", device_uri_axis2)\n",
    "\n",
    "if device_id2 > 0:\n",
    "    print(\"Device with URI {} successfully opened\".format(device_uri_axis2))\n",
    "else:\n",
    "    raise RuntimeError(\"Failed to open device with URI\", device_uri_axis2)\n"
   ]
  },
  {
   "cell_type": "code",
   "execution_count": 26,
   "metadata": {},
   "outputs": [
    {
     "name": "stdout",
     "output_type": "stream",
     "text": [
      "Initial position, horizontal: -5213\n",
      "Initial position, vertical: 1625\n"
     ]
    }
   ],
   "source": [
    "position1 = ximc.get_position_t()\n",
    "\n",
    "ximc.lib.get_position(device_id1, byref(position1))\n",
    "print(\"Initial position, horizontal:\", position1.Position)\n",
    "\n",
    "position2 = ximc.get_position_t()\n",
    "\n",
    "ximc.lib.get_position(device_id2, byref(position2))\n",
    "print(\"Initial position, vertical:\", position2.Position)\n",
    "\n",
    "pos1, pos2 = position1.Position, position2.Position"
   ]
  },
  {
   "cell_type": "code",
   "execution_count": 27,
   "metadata": {},
   "outputs": [
    {
     "name": "stdout",
     "output_type": "stream",
     "text": [
      "РЕЗУЛЬТАТ ЮСТИРОВКИ ВДВОЕМ: horizontal -5213, vertical 1625\n"
     ]
    }
   ],
   "source": [
    "print(\"РЕЗУЛЬТАТ ЮСТИРОВКИ ВДВОЕМ: horizontal {}, vertical {}\".format(pos1, pos2))"
   ]
  },
  {
   "cell_type": "code",
   "execution_count": 30,
   "metadata": {},
   "outputs": [],
   "source": [
    "# ximc.lib.command_move(device_id1, pos1, 0)\n",
    "# ximc.lib.command_move(device_id2, pos2, 0)"
   ]
  },
  {
   "cell_type": "code",
   "execution_count": 28,
   "metadata": {},
   "outputs": [],
   "source": [
    "try:\n",
    "    s = serial.Serial('COM8',115200)\n",
    "except IOError: \n",
    "    print('no counter')"
   ]
  },
  {
   "cell_type": "code",
   "execution_count": 32,
   "metadata": {},
   "outputs": [
    {
     "name": "stdout",
     "output_type": "stream",
     "text": [
      "[2234, 2608, 77]\n"
     ]
    }
   ],
   "source": [
    "s.reset_input_buffer()\n",
    "raw = s.readline().decode(errors = 'ignore')\n",
    "try:\n",
    "    reading = [int(float(part.strip())) for part in raw.split('\\t')]\n",
    "    print(reading)\n",
    "except:\n",
    "    print('хуян.doc')"
   ]
  },
  {
   "cell_type": "code",
   "execution_count": 25,
   "metadata": {},
   "outputs": [],
   "source": [
    "s.close()"
   ]
  },
  {
   "cell_type": "code",
   "execution_count": 40,
   "metadata": {},
   "outputs": [
    {
     "data": {
      "text/plain": [
       "0"
      ]
     },
     "execution_count": 40,
     "metadata": {},
     "output_type": "execute_result"
    }
   ],
   "source": [
    "ximc.lib.command_move(device_id1, pos1, 0)\n",
    "ximc.lib.command_move(device_id2, pos2, 0)"
   ]
  },
  {
   "cell_type": "code",
   "execution_count": 33,
   "metadata": {},
   "outputs": [
    {
     "name": "stdout",
     "output_type": "stream",
     "text": [
      "-5218 1620 49\n",
      "-5218 1621 52\n",
      "-5218 1622 49\n",
      "-5218 1623 50\n",
      "-5218 1624 44\n",
      "-5218 1625 41\n",
      "-5218 1626 36\n",
      "-5218 1627 33\n",
      "-5218 1628 36\n",
      "-5218 1629 22\n",
      "-5218 1630 24\n",
      "-5217 1620 57\n",
      "-5217 1621 55\n",
      "-5217 1622 54\n",
      "-5217 1623 55\n",
      "-5217 1624 53\n",
      "-5217 1625 43\n",
      "-5217 1626 47\n",
      "-5217 1627 40\n",
      "-5217 1628 35\n",
      "-5217 1629 32\n",
      "-5217 1630 23\n",
      "-5216 1620 58\n",
      "-5216 1621 61\n",
      "-5216 1622 59\n",
      "-5216 1623 57\n",
      "-5216 1624 54\n",
      "хуян.doc\n",
      "-5216 1625 53\n",
      "-5216 1626 47\n",
      "-5216 1627 49\n",
      "-5216 1628 42\n",
      "-5216 1629 34\n",
      "-5216 1630 33\n",
      "-5215 1620 71\n",
      "-5215 1621 67\n",
      "-5215 1622 71\n",
      "-5215 1623 65\n",
      "-5215 1624 61\n",
      "-5215 1625 61\n",
      "-5215 1626 57\n",
      "-5215 1627 49\n",
      "-5215 1628 43\n",
      "-5215 1629 41\n",
      "-5215 1630 29\n",
      "-5214 1620 77\n",
      "-5214 1621 72\n",
      "-5214 1622 80\n",
      "-5214 1623 69\n",
      "-5214 1624 74\n",
      "-5214 1625 60\n",
      "-5214 1626 65\n",
      "-5214 1627 54\n",
      "-5214 1628 51\n",
      "-5214 1629 41\n",
      "-5214 1630 37\n",
      "-5213 1620 84\n",
      "-5213 1621 84\n",
      "-5213 1622 79\n",
      "-5213 1623 82\n",
      "-5213 1624 73\n",
      "-5213 1625 67\n",
      "-5213 1626 72\n",
      "-5213 1627 66\n",
      "-5213 1628 51\n",
      "-5213 1629 48\n",
      "-5213 1630 44\n",
      "-5212 1620 80\n",
      "-5212 1621 82\n",
      "-5212 1622 81\n",
      "-5212 1623 89\n",
      "хуян.doc\n",
      "-5212 1624 87\n",
      "-5212 1625 82\n",
      "-5212 1626 68\n",
      "-5212 1627 69\n",
      "-5212 1628 66\n",
      "-5212 1629 48\n",
      "-5212 1630 47\n",
      "-5211 1620 87\n",
      "-5211 1621 93\n",
      "-5211 1622 95\n",
      "-5211 1623 89\n",
      "-5211 1624 87\n",
      "-5211 1625 78\n",
      "-5211 1626 79\n",
      "-5211 1627 71\n",
      "-5211 1628 65\n",
      "-5211 1629 57\n",
      "-5211 1630 57\n",
      "-5210 1620 99\n",
      "-5210 1621 98\n",
      "-5210 1622 97\n",
      "-5210 1623 97\n",
      "-5210 1624 98\n",
      "-5210 1625 81\n",
      "-5210 1626 82\n",
      "-5210 1627 74\n",
      "-5210 1628 69\n",
      "-5210 1629 61\n",
      "-5210 1630 59\n",
      "-5209 1620 100\n",
      "-5209 1621 97\n",
      "-5209 1622 100\n",
      "-5209 1623 99\n",
      "-5209 1624 105\n",
      "-5209 1625 90\n",
      "-5209 1626 83\n",
      "-5209 1627 80\n",
      "-5209 1628 70\n",
      "-5209 1629 62\n",
      "-5209 1630 64\n",
      "-5208 1620 92\n",
      "-5208 1621 98\n",
      "хуян.doc\n",
      "-5208 1622 102\n",
      "-5208 1623 98\n",
      "-5208 1624 99\n",
      "-5208 1625 99\n",
      "-5208 1626 90\n",
      "-5208 1627 82\n",
      "-5208 1628 75\n",
      "-5208 1629 74\n",
      "-5208 1630 61\n"
     ]
    }
   ],
   "source": [
    "N = 5\n",
    "length = 5\n",
    "step = 1\n",
    "\n",
    "columns = np.arange(-N * step + int(pos1), int(pos1) + N * step + step, step)\n",
    "rows = np.arange(-N * step + int(pos2), int(pos2) + N * step + step, step)\n",
    "\n",
    "data = pd.DataFrame(index=rows, columns=columns)\n",
    "\n",
    "for x in columns:\n",
    "\n",
    "    for y in rows:\n",
    "\n",
    "        time.sleep(1)\n",
    "\n",
    "        ximc.lib.command_move(device_id2, int(y), 0)\n",
    "        ximc.lib.command_move(device_id1, int(x), 0)\n",
    "\n",
    "        time.sleep(1)\n",
    "\n",
    "        coin = []\n",
    "        temp = 0\n",
    "        for _ in range(length):\n",
    "            s.reset_input_buffer()\n",
    "            raw = s.readline().decode(errors = 'ignore')\n",
    "            try:\n",
    "                reading = [int(float(part.strip())) for part in raw.split('\\t')]\n",
    "                coin.append(reading[-1])\n",
    "            except:\n",
    "                print('хуян.doc')\n",
    "            \n",
    "        try:\n",
    "            temp =  int(np.mean(coin))\n",
    "        except:\n",
    "            temp = 0\n",
    "\n",
    "        data[x][y] = temp\n",
    "        print(x, y, data[x][y])\n",
    "\n",
    "    time.sleep(2)\n",
    "\n",
    "ximc.lib.command_move(device_id1, pos1, 0)\n",
    "ximc.lib.command_move(device_id2, pos2, 0)\n",
    "\n",
    "s.close()"
   ]
  },
  {
   "cell_type": "code",
   "execution_count": 33,
   "metadata": {},
   "outputs": [
    {
     "data": {
      "text/plain": [
       "4"
      ]
     },
     "execution_count": 33,
     "metadata": {},
     "output_type": "execute_result"
    }
   ],
   "source": [
    "a = [1, 2, 3, 4]\n",
    "a[-1]"
   ]
  },
  {
   "cell_type": "code",
   "execution_count": 34,
   "metadata": {},
   "outputs": [
    {
     "data": {
      "text/html": [
       "<div>\n",
       "<style scoped>\n",
       "    .dataframe tbody tr th:only-of-type {\n",
       "        vertical-align: middle;\n",
       "    }\n",
       "\n",
       "    .dataframe tbody tr th {\n",
       "        vertical-align: top;\n",
       "    }\n",
       "\n",
       "    .dataframe thead th {\n",
       "        text-align: right;\n",
       "    }\n",
       "</style>\n",
       "<table border=\"1\" class=\"dataframe\">\n",
       "  <thead>\n",
       "    <tr style=\"text-align: right;\">\n",
       "      <th></th>\n",
       "      <th>-5218</th>\n",
       "      <th>-5217</th>\n",
       "      <th>-5216</th>\n",
       "      <th>-5215</th>\n",
       "      <th>-5214</th>\n",
       "      <th>-5213</th>\n",
       "      <th>-5212</th>\n",
       "      <th>-5211</th>\n",
       "      <th>-5210</th>\n",
       "      <th>-5209</th>\n",
       "      <th>-5208</th>\n",
       "    </tr>\n",
       "  </thead>\n",
       "  <tbody>\n",
       "    <tr>\n",
       "      <th>1620</th>\n",
       "      <td>49</td>\n",
       "      <td>57</td>\n",
       "      <td>58</td>\n",
       "      <td>71</td>\n",
       "      <td>77</td>\n",
       "      <td>84</td>\n",
       "      <td>80</td>\n",
       "      <td>87</td>\n",
       "      <td>99</td>\n",
       "      <td>100</td>\n",
       "      <td>92</td>\n",
       "    </tr>\n",
       "    <tr>\n",
       "      <th>1621</th>\n",
       "      <td>52</td>\n",
       "      <td>55</td>\n",
       "      <td>61</td>\n",
       "      <td>67</td>\n",
       "      <td>72</td>\n",
       "      <td>84</td>\n",
       "      <td>82</td>\n",
       "      <td>93</td>\n",
       "      <td>98</td>\n",
       "      <td>97</td>\n",
       "      <td>98</td>\n",
       "    </tr>\n",
       "    <tr>\n",
       "      <th>1622</th>\n",
       "      <td>49</td>\n",
       "      <td>54</td>\n",
       "      <td>59</td>\n",
       "      <td>71</td>\n",
       "      <td>80</td>\n",
       "      <td>79</td>\n",
       "      <td>81</td>\n",
       "      <td>95</td>\n",
       "      <td>97</td>\n",
       "      <td>100</td>\n",
       "      <td>102</td>\n",
       "    </tr>\n",
       "    <tr>\n",
       "      <th>1623</th>\n",
       "      <td>50</td>\n",
       "      <td>55</td>\n",
       "      <td>57</td>\n",
       "      <td>65</td>\n",
       "      <td>69</td>\n",
       "      <td>82</td>\n",
       "      <td>89</td>\n",
       "      <td>89</td>\n",
       "      <td>97</td>\n",
       "      <td>99</td>\n",
       "      <td>98</td>\n",
       "    </tr>\n",
       "    <tr>\n",
       "      <th>1624</th>\n",
       "      <td>44</td>\n",
       "      <td>53</td>\n",
       "      <td>54</td>\n",
       "      <td>61</td>\n",
       "      <td>74</td>\n",
       "      <td>73</td>\n",
       "      <td>87</td>\n",
       "      <td>87</td>\n",
       "      <td>98</td>\n",
       "      <td>105</td>\n",
       "      <td>99</td>\n",
       "    </tr>\n",
       "    <tr>\n",
       "      <th>1625</th>\n",
       "      <td>41</td>\n",
       "      <td>43</td>\n",
       "      <td>53</td>\n",
       "      <td>61</td>\n",
       "      <td>60</td>\n",
       "      <td>67</td>\n",
       "      <td>82</td>\n",
       "      <td>78</td>\n",
       "      <td>81</td>\n",
       "      <td>90</td>\n",
       "      <td>99</td>\n",
       "    </tr>\n",
       "    <tr>\n",
       "      <th>1626</th>\n",
       "      <td>36</td>\n",
       "      <td>47</td>\n",
       "      <td>47</td>\n",
       "      <td>57</td>\n",
       "      <td>65</td>\n",
       "      <td>72</td>\n",
       "      <td>68</td>\n",
       "      <td>79</td>\n",
       "      <td>82</td>\n",
       "      <td>83</td>\n",
       "      <td>90</td>\n",
       "    </tr>\n",
       "    <tr>\n",
       "      <th>1627</th>\n",
       "      <td>33</td>\n",
       "      <td>40</td>\n",
       "      <td>49</td>\n",
       "      <td>49</td>\n",
       "      <td>54</td>\n",
       "      <td>66</td>\n",
       "      <td>69</td>\n",
       "      <td>71</td>\n",
       "      <td>74</td>\n",
       "      <td>80</td>\n",
       "      <td>82</td>\n",
       "    </tr>\n",
       "    <tr>\n",
       "      <th>1628</th>\n",
       "      <td>36</td>\n",
       "      <td>35</td>\n",
       "      <td>42</td>\n",
       "      <td>43</td>\n",
       "      <td>51</td>\n",
       "      <td>51</td>\n",
       "      <td>66</td>\n",
       "      <td>65</td>\n",
       "      <td>69</td>\n",
       "      <td>70</td>\n",
       "      <td>75</td>\n",
       "    </tr>\n",
       "    <tr>\n",
       "      <th>1629</th>\n",
       "      <td>22</td>\n",
       "      <td>32</td>\n",
       "      <td>34</td>\n",
       "      <td>41</td>\n",
       "      <td>41</td>\n",
       "      <td>48</td>\n",
       "      <td>48</td>\n",
       "      <td>57</td>\n",
       "      <td>61</td>\n",
       "      <td>62</td>\n",
       "      <td>74</td>\n",
       "    </tr>\n",
       "    <tr>\n",
       "      <th>1630</th>\n",
       "      <td>24</td>\n",
       "      <td>23</td>\n",
       "      <td>33</td>\n",
       "      <td>29</td>\n",
       "      <td>37</td>\n",
       "      <td>44</td>\n",
       "      <td>47</td>\n",
       "      <td>57</td>\n",
       "      <td>59</td>\n",
       "      <td>64</td>\n",
       "      <td>61</td>\n",
       "    </tr>\n",
       "  </tbody>\n",
       "</table>\n",
       "</div>"
      ],
      "text/plain": [
       "     -5218 -5217 -5216 -5215 -5214 -5213 -5212 -5211 -5210 -5209 -5208\n",
       "1620    49    57    58    71    77    84    80    87    99   100    92\n",
       "1621    52    55    61    67    72    84    82    93    98    97    98\n",
       "1622    49    54    59    71    80    79    81    95    97   100   102\n",
       "1623    50    55    57    65    69    82    89    89    97    99    98\n",
       "1624    44    53    54    61    74    73    87    87    98   105    99\n",
       "1625    41    43    53    61    60    67    82    78    81    90    99\n",
       "1626    36    47    47    57    65    72    68    79    82    83    90\n",
       "1627    33    40    49    49    54    66    69    71    74    80    82\n",
       "1628    36    35    42    43    51    51    66    65    69    70    75\n",
       "1629    22    32    34    41    41    48    48    57    61    62    74\n",
       "1630    24    23    33    29    37    44    47    57    59    64    61"
      ]
     },
     "execution_count": 34,
     "metadata": {},
     "output_type": "execute_result"
    }
   ],
   "source": [
    "data"
   ]
  },
  {
   "cell_type": "code",
   "execution_count": 38,
   "metadata": {},
   "outputs": [
    {
     "data": {
      "text/plain": [
       "<Axes: >"
      ]
     },
     "execution_count": 38,
     "metadata": {},
     "output_type": "execute_result"
    },
    {
     "data": {
      "image/png": "[encoded data removed]",
      "text/plain": [
       "<Figure size 640x480 with 2 Axes>"
      ]
     },
     "metadata": {},
     "output_type": "display_data"
    }
   ],
   "source": [
    "import seaborn as sns\n",
    "data = data.astype(int)\n",
    "sns.heatmap(data, annot=True)"
   ]
  },
  {
   "cell_type": "code",
   "execution_count": 39,
   "metadata": {},
   "outputs": [
    {
     "data": {
      "text/plain": [
       "0"
      ]
     },
     "execution_count": 39,
     "metadata": {},
     "output_type": "execute_result"
    }
   ],
   "source": [
    "ximc.lib.command_move(device_id1, -5208, 0)\n",
    "ximc.lib.command_move(device_id2, 1620, 0)"
   ]
  },
  {
   "cell_type": "code",
   "execution_count": 40,
   "metadata": {},
   "outputs": [],
   "source": [
    "data.to_csv('измерение 19.07.2023', index=False)"
   ]
  }
 ],
 "metadata": {
  "kernelspec": {
   "display_name": "base_env",
   "language": "python",
   "name": "python3"
  },
  "language_info": {
   "codemirror_mode": {
    "name": "ipython",
    "version": 3
   },
   "file_extension": ".py",
   "mimetype": "text/x-python",
   "name": "python",
   "nbconvert_exporter": "python",
   "pygments_lexer": "ipython3",
   "version": "3.11.4"
  },
  "orig_nbformat": 4
 },
 "nbformat": 4,
 "nbformat_minor": 2
}
