{
 "cells": [
  {
   "cell_type": "code",
   "execution_count": 2,
   "metadata": {},
   "outputs": [],
   "source": [
    "from time import sleep\n",
    "from ctypes import c_int, byref\n",
    "import libximc as ximc\n",
    "import serial\n",
    "import pandas\n",
    "import numpy\n",
    "from IPython import display\n",
    "import matplotlib.pyplot as plt\n",
    "\n",
    "def open_serial(port, baudrate=None):\n",
    "    if baudrate == None:\n",
    "        try:\n",
    "            return serial.Serial(port)\n",
    "        except Exception as e:\n",
    "            print(e)\n",
    "            return None\n",
    "    else:\n",
    "        try:\n",
    "            return serial.Serial(port, baudrate)\n",
    "        except Exception as e:\n",
    "            print(e)\n",
    "            return None\n",
    "        \n",
    "def close_serial(*devices):\n",
    "    for device in devices:\n",
    "        try:\n",
    "            device.close()\n",
    "        except Exception as e:\n",
    "            print(e)\n",
    "\n",
    "def read_power(powermeter_device, TEST=False):\n",
    "    if TEST:\n",
    "        # заглушка для тестирования\n",
    "        return np.random.random()\n",
    "    else:\n",
    "        try:\n",
    "            powermeter_device.write(b'*CVU')\n",
    "            return powermeter_device.readline().decode().strip()\n",
    "            # print(powermeter_device.readline().decode().strip())\n",
    "        except Exception as e:\n",
    "            print(e)\n",
    "            return None"
   ]
  },
  {
   "cell_type": "code",
   "execution_count": 3,
   "metadata": {},
   "outputs": [
    {
     "name": "stdout",
     "output_type": "stream",
     "text": [
      "5.58608e-007\n"
     ]
    }
   ],
   "source": [
    "maestro = open_serial('COM5', 115200)\n",
    "\n",
    "print(read_power(maestro))\n",
    "\n",
    "close_serial(maestro)"
   ]
  },
  {
   "cell_type": "code",
   "execution_count": 4,
   "metadata": {},
   "outputs": [
    {
     "name": "stdout",
     "output_type": "stream",
     "text": [
      "Device with URI xi-com:\\\\.\\COM3 successfully opened\n",
      "Disconnect device\n"
     ]
    },
    {
     "data": {
      "text/plain": [
       "0"
      ]
     },
     "execution_count": 4,
     "metadata": {},
     "output_type": "execute_result"
    }
   ],
   "source": [
    "device_uri = \"xi-com:\\\\\\\\.\\\\COM3\"\n",
    "device_id = ximc.lib.open_device(device_uri.encode())\n",
    "if device_id > 0:\n",
    "    print(\"Device with URI {} successfully opened\".format(device_uri))\n",
    "else:\n",
    "    raise RuntimeError(\"Failed to open device with URI\", device_uri)\n",
    "print(\"Disconnect device\")\n",
    "\n",
    "ximc.lib.command_movr(device_id, 100, 0)\n",
    "\n",
    "ximc.lib.close_device(byref(c_int(device_id)))"
   ]
  },
  {
   "cell_type": "code",
   "execution_count": 10,
   "metadata": {},
   "outputs": [],
   "source": [
    "data = pandas.DataFrame(columns = ['angle', 'power'])\n",
    "\n",
    "for i in range(1, 148):\n",
    "\n",
    "    device_uri = \"xi-com:\\\\\\\\.\\\\COM3\"\n",
    "    device_id = ximc.lib.open_device(device_uri.encode())\n",
    "    ximc.lib.command_movr(device_id, 100, 0)\n",
    "    data.loc[i, 'angle'] = i * 1.22\n",
    "    ximc.lib.close_device(byref(c_int(device_id)))\n",
    "\n",
    "    sleep(1)\n",
    "\n",
    "    maestro = open_serial('COM4', 115200)\n",
    "    data.loc[i, 'power'] = read_power(maestro)\n",
    "    close_serial(maestro)\n",
    "\n",
    "    print(i)\n",
    "\n",
    "print(\"Stop movement\")\n",
    "ximc.lib.command_stop(device_id)\n",
    "\n",
    "now = datetime.datetime.now()\n",
    "filename = 'result_{}.csv'.format(now.strftime('%Y-%m-%d_%H-%M-%S'))\n",
    "data.to_csv(filename, index=False)"
   ]
  },
  {
   "cell_type": "code",
   "execution_count": 43,
   "metadata": {},
   "outputs": [
    {
     "data": {
      "text/plain": [
       "0"
      ]
     },
     "execution_count": 43,
     "metadata": {},
     "output_type": "execute_result"
    }
   ],
   "source": [
    "ximc.lib.close_device(byref(c_int(device_id)))"
   ]
  },
  {
   "cell_type": "code",
   "execution_count": 36,
   "metadata": {},
   "outputs": [
    {
     "name": "stdout",
     "output_type": "stream",
     "text": [
      "ok\n"
     ]
    },
    {
     "ename": "AttributeError",
     "evalue": "function 'test_left' not found",
     "output_type": "error",
     "traceback": [
      "\u001b[1;31m---------------------------------------------------------------------------\u001b[0m",
      "\u001b[1;31mAttributeError\u001b[0m                            Traceback (most recent call last)",
      "Cell \u001b[1;32mIn[36], line 9\u001b[0m\n\u001b[0;32m      6\u001b[0m \u001b[39melse\u001b[39;00m:\n\u001b[0;32m      7\u001b[0m     \u001b[39mraise\u001b[39;00m \u001b[39mRuntimeError\u001b[39;00m(\u001b[39m\"\u001b[39m\u001b[39mFailed to open device with URI\u001b[39m\u001b[39m\"\u001b[39m, device_uri)\n\u001b[1;32m----> 9\u001b[0m ximc\u001b[39m.\u001b[39;49mlib\u001b[39m.\u001b[39;49mtest_left(device_id)\n\u001b[0;32m     11\u001b[0m ximc\u001b[39m.\u001b[39mlib\u001b[39m.\u001b[39mclose_device(byref(c_int(device_id)))\n",
      "File \u001b[1;32m~\\AppData\\Local\\Programs\\Python\\Python311\\Lib\\ctypes\\__init__.py:389\u001b[0m, in \u001b[0;36mCDLL.__getattr__\u001b[1;34m(self, name)\u001b[0m\n\u001b[0;32m    387\u001b[0m \u001b[39mif\u001b[39;00m name\u001b[39m.\u001b[39mstartswith(\u001b[39m'\u001b[39m\u001b[39m__\u001b[39m\u001b[39m'\u001b[39m) \u001b[39mand\u001b[39;00m name\u001b[39m.\u001b[39mendswith(\u001b[39m'\u001b[39m\u001b[39m__\u001b[39m\u001b[39m'\u001b[39m):\n\u001b[0;32m    388\u001b[0m     \u001b[39mraise\u001b[39;00m \u001b[39mAttributeError\u001b[39;00m(name)\n\u001b[1;32m--> 389\u001b[0m func \u001b[39m=\u001b[39m \u001b[39mself\u001b[39;49m\u001b[39m.\u001b[39;49m\u001b[39m__getitem__\u001b[39;49m(name)\n\u001b[0;32m    390\u001b[0m \u001b[39msetattr\u001b[39m(\u001b[39mself\u001b[39m, name, func)\n\u001b[0;32m    391\u001b[0m \u001b[39mreturn\u001b[39;00m func\n",
      "File \u001b[1;32m~\\AppData\\Local\\Programs\\Python\\Python311\\Lib\\ctypes\\__init__.py:394\u001b[0m, in \u001b[0;36mCDLL.__getitem__\u001b[1;34m(self, name_or_ordinal)\u001b[0m\n\u001b[0;32m    393\u001b[0m \u001b[39mdef\u001b[39;00m \u001b[39m__getitem__\u001b[39m(\u001b[39mself\u001b[39m, name_or_ordinal):\n\u001b[1;32m--> 394\u001b[0m     func \u001b[39m=\u001b[39m \u001b[39mself\u001b[39;49m\u001b[39m.\u001b[39;49m_FuncPtr((name_or_ordinal, \u001b[39mself\u001b[39;49m))\n\u001b[0;32m    395\u001b[0m     \u001b[39mif\u001b[39;00m \u001b[39mnot\u001b[39;00m \u001b[39misinstance\u001b[39m(name_or_ordinal, \u001b[39mint\u001b[39m):\n\u001b[0;32m    396\u001b[0m         func\u001b[39m.\u001b[39m\u001b[39m__name__\u001b[39m \u001b[39m=\u001b[39m name_or_ordinal\n",
      "\u001b[1;31mAttributeError\u001b[0m: function 'test_left' not found"
     ]
    }
   ],
   "source": [
    "import libximc as ximc\n",
    "device_uri = \"xi-com:\\\\\\\\.\\\\COM3\"\n",
    "device_id = ximc.lib.open_device(device_uri.encode())\n",
    "if device_id > 0:\n",
    "    print('ok')\n",
    "else:\n",
    "    raise RuntimeError(\"Failed to open device with URI\", device_uri)\n",
    "\n",
    "ximc.lib.test_left(device_id)\n",
    "\n",
    "ximc.lib.close_device(byref(c_int(device_id)))"
   ]
  }
 ],
 "metadata": {
  "kernelspec": {
   "display_name": "base_env",
   "language": "python",
   "name": "python3"
  },
  "language_info": {
   "codemirror_mode": {
    "name": "ipython",
    "version": 3
   },
   "file_extension": ".py",
   "mimetype": "text/x-python",
   "name": "python",
   "nbconvert_exporter": "python",
   "pygments_lexer": "ipython3",
   "version": "3.11.4"
  },
  "orig_nbformat": 4
 },
 "nbformat": 4,
 "nbformat_minor": 2
}
